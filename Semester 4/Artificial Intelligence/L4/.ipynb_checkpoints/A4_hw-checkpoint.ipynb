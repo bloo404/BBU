{
 "cells": [
  {
   "cell_type": "code",
   "execution_count": 8,
   "id": "735b0f42",
   "metadata": {},
   "outputs": [
    {
     "name": "stdout",
     "output_type": "stream",
     "text": [
      "tensor([2.], requires_grad=True)\n",
      "tensor([9.], grad_fn=<AddBackward0>)\n"
     ]
    },
    {
     "data": {
      "text/plain": [
       "tensor([6.])"
      ]
     },
     "execution_count": 8,
     "metadata": {},
     "output_type": "execute_result"
    }
   ],
   "source": [
    "import torch\n",
    "torch.cuda.is_available()\n",
    "x = torch.tensor([2.0], requires_grad=True)\n",
    "print(x)\n",
    "y = x ** 2 + 2 * x + 1\n",
    "print(y)\n",
    "y.backward()\n",
    "x.grad"
   ]
  },
  {
   "cell_type": "code",
   "execution_count": 9,
   "id": "3787d6c8",
   "metadata": {},
   "outputs": [
    {
     "name": "stdout",
     "output_type": "stream",
     "text": [
      "tensor([1., 1., 1.])\n"
     ]
    }
   ],
   "source": [
    "import torch\n",
    "\n",
    "# Create a tensor with requires_grad=True\n",
    "x = torch.tensor([1., 2., 3.], requires_grad=True)\n",
    "\n",
    "# Compute a function of x\n",
    "y = x.sum()\n",
    "\n",
    "# Compute gradients of y with respect to x\n",
    "y.backward()\n",
    "\n",
    "# Print gradients of x\n",
    "print(x.grad)\n"
   ]
  },
  {
   "cell_type": "code",
   "execution_count": 34,
   "id": "788dba1e",
   "metadata": {},
   "outputs": [
    {
     "name": "stdout",
     "output_type": "stream",
     "text": [
      "tensor([0.1966])\n",
      "tensor([0.0452])\n",
      "Known gradient at x1: tensor([0.1966], grad_fn=<MulBackward0>)\n",
      "Known gradient at x2: tensor([0.0452], grad_fn=<MulBackward0>)\n"
     ]
    }
   ],
   "source": [
    "#EXERCISE 1\n",
    "import torch\n",
    "\n",
    "x1 = torch.tensor([1.], requires_grad=True)\n",
    "\n",
    "# Sigmoid\n",
    "y1 = torch.sigmoid(x1)\n",
    "\n",
    "# Gradient\n",
    "y1.backward()\n",
    "print(x1.grad)\n",
    "\n",
    "x2 = torch.tensor([3.], requires_grad=True)\n",
    "\n",
    "# Sigmoid\n",
    "y2 = torch.sigmoid(x2)\n",
    "\n",
    "# Gradient\n",
    "y2.backward()\n",
    "print(x2.grad)\n",
    "\n",
    "grad1 = y1 * (1 - y1)\n",
    "grad2 = y2 * (1 - y2)\n",
    "print(\"Known gradient at x1:\", grad1)\n",
    "print(\"Known gradient at x2:\", grad2)"
   ]
  },
  {
   "cell_type": "code",
   "execution_count": 31,
   "id": "661b48de",
   "metadata": {},
   "outputs": [
    {
     "name": "stdout",
     "output_type": "stream",
     "text": [
      "tensor([1.])\n",
      "tensor([1.])\n",
      "Known gradient at x1: 1.0\n",
      "Known gradient at x2: 1.0\n"
     ]
    }
   ],
   "source": [
    "#EXERCISE 2\n",
    "import torch\n",
    "\n",
    "x1 = torch.tensor([1.], requires_grad=True)\n",
    "\n",
    "# Linear\n",
    "y = x1\n",
    "\n",
    "# Gradient\n",
    "y.backward()\n",
    "print(x1.grad)\n",
    "\n",
    "x2 = torch.tensor([5.], requires_grad=True)\n",
    "\n",
    "# Linear\n",
    "y = x2\n",
    "\n",
    "# Gradient\n",
    "y.backward()\n",
    "print(x2.grad)\n",
    "\n",
    "grad1 = 1.0\n",
    "grad2 = 1.0\n",
    "print(\"Known gradient at x1:\", grad1)\n",
    "print(\"Known gradient at x2:\", grad2)"
   ]
  },
  {
   "cell_type": "code",
   "execution_count": 29,
   "id": "77f2a83d",
   "metadata": {},
   "outputs": [
    {
     "name": "stdout",
     "output_type": "stream",
     "text": [
      "tensor([1.])\n",
      "tensor([1.])\n",
      "Known gradient at x1: 1.0\n",
      "Known gradient at x2: 1.0\n"
     ]
    }
   ],
   "source": [
    "#EXERCISE 3\n",
    "import torch\n",
    "\n",
    "x1 = torch.tensor([1.], requires_grad=True)\n",
    "\n",
    "# ReLU\n",
    "y = torch.relu(x1)\n",
    "\n",
    "# Gradient\n",
    "y.backward()\n",
    "print(x1.grad)\n",
    "\n",
    "x2 = torch.tensor([3.], requires_grad=True)\n",
    "\n",
    "# ReLU\n",
    "y = torch.relu(x2)\n",
    "\n",
    "# Gradient\n",
    "y.backward()\n",
    "print(x2.grad)\n",
    "\n",
    "grad1 = 1.0 if x1 > 0 else 0.0\n",
    "grad2 = 1.0 if x2 > 0 else 0.0\n",
    "print(\"Known gradient at x1:\", grad1)\n",
    "print(\"Known gradient at x2:\", grad2)"
   ]
  },
  {
   "cell_type": "code",
   "execution_count": 28,
   "id": "5e9357a0",
   "metadata": {},
   "outputs": [
    {
     "data": {
      "image/png": "[encoded data removed]",
      "text/plain": [
       "<Figure size 432x288 with 1 Axes>"
      ]
     },
     "metadata": {
      "needs_background": "light"
     },
     "output_type": "display_data"
    }
   ],
   "source": [
    "#EXERCISE 4\n",
    "import numpy as np\n",
    "import matplotlib.pyplot as plt\n",
    "\n",
    "def sigmoid(x):\n",
    "    return 1 / (1 + np.exp(-x))\n",
    "\n",
    "def sigmoid_grad(x):\n",
    "    sig = sigmoid(x)\n",
    "    return sig * (1 - sig)\n",
    "\n",
    "x = np.linspace(-10, 10, 1000)\n",
    "y = sigmoid(x)\n",
    "y_grad = sigmoid_grad(x)\n",
    "\n",
    "plt.plot(x, y, label='Sigmoid')\n",
    "plt.plot(x, y_grad, label='Sigmoid Gradient')\n",
    "plt.legend()\n",
    "plt.title('Sigmoid Activation Function and Gradient')\n",
    "plt.xlabel('x')\n",
    "plt.ylabel('y')\n",
    "plt.show()\n"
   ]
  },
  {
   "cell_type": "code",
   "execution_count": 27,
   "id": "d72420c5",
   "metadata": {},
   "outputs": [
    {
     "data": {
      "image/png": "[encoded data removed]",
      "text/plain": [
       "<Figure size 432x288 with 1 Axes>"
      ]
     },
     "metadata": {
      "needs_background": "light"
     },
     "output_type": "display_data"
    }
   ],
   "source": [
    "# EXERCISE 5\n",
    "import numpy as np\n",
    "import matplotlib.pyplot as plt\n",
    "\n",
    "def relu(x):\n",
    "    return np.maximum(0, x)\n",
    "\n",
    "def relu_grad(x):\n",
    "    grad = np.zeros_like(x)\n",
    "    grad[x > 0] = 1\n",
    "    return grad\n",
    "\n",
    "x = np.linspace(-10, 10, 1000)\n",
    "y = relu(x)\n",
    "y_grad = relu_grad(x)\n",
    "\n",
    "plt.plot(x, y, label='ReLU')\n",
    "plt.plot(x, y_grad, label='ReLU Gradient')\n",
    "plt.legend()\n",
    "plt.title('ReLU Activation Function and Gradient')\n",
    "plt.xlabel('x')\n",
    "plt.ylabel('y')\n",
    "plt.show()\n"
   ]
  },
  {
   "cell_type": "code",
   "execution_count": 26,
   "id": "07fc1e8b",
   "metadata": {},
   "outputs": [
    {
     "data": {
      "image/png": "[encoded data removed]",
      "text/plain": [
       "<Figure size 432x288 with 1 Axes>"
      ]
     },
     "metadata": {
      "needs_background": "light"
     },
     "output_type": "display_data"
    }
   ],
   "source": [
    "# EXERCISE 6\n",
    "import numpy as np\n",
    "import matplotlib.pyplot as plt\n",
    "\n",
    "def tanh(x):\n",
    "    return np.tanh(x)\n",
    "\n",
    "def tanh_grad(x):\n",
    "    return 1.0 - np.tanh(x) ** 2\n",
    "\n",
    "x = np.linspace(-10, 10, 1000)\n",
    "y = tanh(x)\n",
    "y_grad = tanh_grad(x)\n",
    "\n",
    "plt.plot(x, y, label='tanh')\n",
    "plt.plot(x, y_grad, label='tanh Gradient')\n",
    "plt.legend()\n",
    "plt.title('tanh Activation Function and Gradient')\n",
    "plt.xlabel('x')\n",
    "plt.ylabel('y')\n",
    "plt.show()\n"
   ]
  },
  {
   "cell_type": "code",
   "execution_count": 16,
   "id": "f4ac5714",
   "metadata": {},
   "outputs": [
    {
     "data": {
      "image/png": "[encoded data removed]",
      "text/plain": [
       "<Figure size 576x360 with 1 Axes>"
      ]
     },
     "metadata": {
      "needs_background": "light"
     },
     "output_type": "display_data"
    }
   ],
   "source": [
    "# EXERCISE 7\n",
    "\n",
    "import numpy as np\n",
    "\n",
    "def softmax(x):\n",
    "    exps = np.exp(x - np.max(x))\n",
    "    return exps / np.sum(exps)\n",
    "\n",
    "def plot_softmax():\n",
    "    x = np.linspace(-10, 10, 2000) \n",
    "    fig, ax = plt.subplots(figsize=(8, 5))\n",
    "    ax.plot(x, softmax(x), label = 'softmax')\n",
    "    ax.set_xlabel('x')\n",
    "    ax.set_ylabel('y')\n",
    "    ax.legend()\n",
    "    plt.show()\n",
    "    \n",
    "plot_softmax()"
   ]
  },
  {
   "cell_type": "code",
   "execution_count": 25,
   "id": "c412cbfd",
   "metadata": {},
   "outputs": [
    {
     "data": {
      "image/png": "[encoded data removed]",
      "text/plain": [
       "<Figure size 432x288 with 1 Axes>"
      ]
     },
     "metadata": {
      "needs_background": "light"
     },
     "output_type": "display_data"
    }
   ],
   "source": [
    "# EXERCISE 8\n",
    "\n",
    "import numpy as np\n",
    "import matplotlib.pyplot as plt\n",
    "\n",
    "def leaky_relu(x, alpha=0.1):\n",
    "    return np.maximum(alpha * x, x)\n",
    "\n",
    "def leaky_relu_grad(x, alpha=0.1):\n",
    "    grad = np.ones_like(x)\n",
    "    grad[x < 0] = alpha\n",
    "    return grad\n",
    "\n",
    "x = np.linspace(-10, 10, 1000)\n",
    "y = leaky_relu(x)\n",
    "y_grad = leaky_relu_grad(x)\n",
    "\n",
    "plt.plot(x, y, label='Leaky ReLU')\n",
    "plt.plot(x, y_grad, label='Leaky ReLU Gradient')\n",
    "plt.legend()\n",
    "plt.title('Leaky ReLU Activation Function and Gradient')\n",
    "plt.xlabel('x')\n",
    "plt.ylabel('y')\n",
    "plt.show()\n"
   ]
  },
  {
   "cell_type": "code",
   "execution_count": 24,
   "id": "8e6976a5",
   "metadata": {},
   "outputs": [
    {
     "name": "stdout",
     "output_type": "stream",
     "text": [
      "Epoch [100/1000], Loss: 0.7593\n",
      "Epoch [200/1000], Loss: 0.7593\n",
      "Epoch [300/1000], Loss: 0.7593\n",
      "Epoch [400/1000], Loss: 0.7593\n",
      "Epoch [500/1000], Loss: 0.7593\n",
      "Epoch [600/1000], Loss: 0.7593\n",
      "Epoch [700/1000], Loss: 0.7593\n",
      "Epoch [800/1000], Loss: 0.7593\n",
      "Epoch [900/1000], Loss: 0.7593\n",
      "Epoch [1000/1000], Loss: 0.7593\n",
      "Test Accuracy: 50.00%\n"
     ]
    }
   ],
   "source": [
    "# EXERCISE 9\n",
    "\n",
    "import torch\n",
    "import torch.nn as nn\n",
    "import torch.optim as optim\n",
    "import numpy as np\n",
    "\n",
    "# Define a Perceptron class that inherits from torch.nn.Module and implements a binary classification model\n",
    "class Perceptron(nn.Module):\n",
    "    def __init__(self):\n",
    "        super(Perceptron, self).__init__()\n",
    "        self.linear = nn.Linear(2, 1)\n",
    "\n",
    "    def forward(self, x):\n",
    "        x = self.linear(x)\n",
    "        return x\n",
    "\n",
    "# Define the binary cross-entropy loss function using the torch.nn.BCEWithLogitsLoss module\n",
    "criterion = nn.BCEWithLogitsLoss()\n",
    "\n",
    "# Define the stochastic gradient descent optimizer using the torch.optim.SGD module\n",
    "learning_rate = 0.1\n",
    "optimizer = optim.SGD(perceptron.parameters(), lr=learning_rate)\n",
    "\n",
    "# Define the training set\n",
    "train_inputs = torch.tensor([[0, 0], [0, 1], [1, 0], [1, 1]], dtype=torch.float32)\n",
    "train_labels = torch.tensor([0, 1, 1, 1], dtype=torch.float32)\n",
    "\n",
    "# Train the Perceptron model on the training set using the binary cross-entropy loss and stochastic gradient descent optimizer\n",
    "perceptron = Perceptron()\n",
    "epochs = 1000\n",
    "for epoch in range(epochs):\n",
    "    # Forward pass\n",
    "    outputs = perceptron(train_inputs)\n",
    "    loss = criterion(outputs.squeeze(), train_labels)\n",
    "\n",
    "    # Backward and optimize\n",
    "    optimizer.zero_grad()\n",
    "    loss.backward()\n",
    "    optimizer.step()\n",
    "\n",
    "    if (epoch+1) % 100 == 0:\n",
    "        print('Epoch [{}/{}], Loss: {:.4f}'.format(epoch+1, epochs, loss.item()))\n",
    "\n",
    "# Evaluate the trained model on a test set and compute the accuracy\n",
    "test_inputs = torch.tensor([[0, 0], [0, 1], [1, 0], [1, 1]], dtype=torch.float32)\n",
    "test_labels = torch.tensor([0, 1, 1, 1], dtype=torch.float32)\n",
    "with torch.no_grad():\n",
    "    outputs = perceptron(test_inputs)\n",
    "    predicted = torch.round(torch.sigmoid(outputs)).squeeze()\n",
    "    accuracy = (predicted == test_labels).sum().item() / len(test_labels)\n",
    "    print('Test Accuracy: {:.2f}%'.format(accuracy*100))\n"
   ]
  },
  {
   "cell_type": "code",
   "execution_count": null,
   "id": "0c230a5b",
   "metadata": {},
   "outputs": [],
   "source": []
  }
 ],
 "metadata": {
  "kernelspec": {
   "display_name": "Python 3",
   "language": "python",
   "name": "python3"
  },
  "language_info": {
   "codemirror_mode": {
    "name": "ipython",
    "version": 3
   },
   "file_extension": ".py",
   "mimetype": "text/x-python",
   "name": "python",
   "nbconvert_exporter": "python",
   "pygments_lexer": "ipython3",
   "version": "3.6.13"
  }
 },
 "nbformat": 4,
 "nbformat_minor": 5
}
